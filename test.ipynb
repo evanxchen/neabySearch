{
 "cells": [
  {
   "cell_type": "code",
   "execution_count": null,
   "metadata": {},
   "outputs": [],
   import requests
import json 
import pandas as pd
import random
import time 
def nearbysearch(LAT, LON):
    url = 'http://127.0.0.1:5001/nearbysearch'
    data = {
        "lat":LAT,
        "lon":LON,
        "case_id":"09420250011",
        "form_type": random.choice(["A", "B"])
    }

    response = requests.post(url, json=data)
    print(response.status_code)
    resp1=response.json()
    return resp1, data 

def request_detail(request_id):
    # 設定 request_id（從 POST /nearbysearch 取得）
    url = f"http://127.0.0.1:5001/status/{request_id}"

    # 最多輪詢 30 次，每次間隔 5 秒
    for i in range(30):
        response = requests.get(url)
        data = response.json()
        time.sleep(5)
        print(f"[{i+1}] 查詢中... 狀態: {data['status']}")
        if data["status"] == "success":
            print("  查詢完成:", data)
            break
        elif data["status"] == "error":
            print(" 查詢失敗:", data["message"])
            break
    return data

df = pd.read_csv('target_list.txt')
for index in range(126, 140, random.randint(2,6)):
    #if df.iloc[index]['COUNTY'].isin([''])
    df_dict = df.iloc[index].to_dict()
    resp1, data = nearbysearch(df_dict['LATITUDE'], df_dict['LONGITUDE'])
    if resp1['status']=='received':
        details = request_detail(resp1['request_id'])
        df_dict.update(resp1)
        df_dict.update(details)
        # **逐笔追加写入 JSON**
        with open("target_output.txt", "a", encoding="utf-8") as f:
            json.dump(df_dict, f, ensure_ascii=False)
            f.write("\n")  # 每条数据换行


## <30 更改高鐵/交流道>> local only

   ]
  },
  {
   "cell_type": "code",
   "execution_count": null,
   "metadata": {},
   "outputs": [],
   "source": [
    "{'CASE_ID': '12345678910', 'Form_type': 'B', 'LAT': 25.05437384194, 'LON': 121.525315723, \n",
    "'Qitem': [\n",
    "    {'case_type': '001', 'case_kind': 'A', 'case_name': '交通設施周遭1公里內', 'score': 10, 'item': [{'item': '客運站', 'item_name': '欣欣大眾公司', 'case_kind': 'A', 'radius': 118}]}, \n",
    "    {'case_type': '002', 'case_kind': 'A', 'case_name': '高速公路或快速道路交流道3公里內', 'score': 0, 'item': []}, \n",
    "    {'case_type': '003', 'case_kind': 'A', 'case_name': '公車站牌500公尺內', 'score': 4, 'item': [{'item': '公車站牌', 'item_name': '欣欣大眾公司', 'case_kind': 'A', 'radius': 118}]}, \n",
    "    {'case_type': '004', 'case_kind': 'A', 'case_name': '以上小項皆無', 'score': 0, 'item': []}, \n",
    "    {'case_type': '005', 'case_kind': 'B', 'case_name': '超級市場', 'score': 10, 'item': [{'item': '各類商店市集', 'item_name': '生活工場 欣欣百貨店', 'case_kind': 'B', 'radius': 26}, {'item': '超級市場', 'item_name': \"Mia C'bon 台北林森店\", 'case_kind': 'B', 'radius': 59}, {'item': '傳統市場', 'item_name': '台北市中山區林森北路259巷康樂市場', 'case_kind': 'B', 'radius': 65}]}, \n",
    "    {'case_type': '006', 'case_kind': 'B', 'case_name': '學校或政府機關1公里內/ 科學園區、工業區等聚落3公里內', 'score': 8, 'item': [{'item': '學校', 'item_name': '臺北市中山區吉林國民小學', 'case_kind': 'B', 'radius': 404}, {'item': '政府機構', 'item_name': '臺北市政府警察局中山分局', 'case_kind': 'B', 'radius': 476}]}, \n",
    "    {'case_type': '007', 'case_kind': 'B', 'case_name': '中大型公園(200坪)以上、百貨公司、大型購物中心1公里內', 'score': 6, 'item': [{'item': '公園', 'item_name': '林森北路', 'case_kind': 'B', 'radius': 31}, {'item': '百貨公司', 'item_name': '欣欣百貨公司', 'case_kind': 'B', 'radius': 31}]}, \n",
    "    {'case_type': '008', 'case_kind': 'B', 'case_name': '服務性設施（含郵局、銀行、醫院)1公里內', 'score': 3, 'item': [{'item': '銀行', 'item_name': '台中銀行 中山分行', 'case_kind': 'B', 'radius': 136}, {'item': '郵局', 'item_name': '台北市中山區長春路臺北長春路郵局', 'case_kind': 'B', 'radius': 592}, {'item': '醫院', 'item_name': '台灣基督長老教會馬偕醫療財團法人馬偕紀念醫院', 'case_kind': 'B', 'radius': 732}]}, \n",
    "    {'case_type': '009', 'case_kind': 'B', 'case_name': '遊憩設施(含兒童遊樂場、大型球場、體育場、廣場等)1公里內；便利超商、小型公園(100坪以下)或地方診所500公尺內', 'score': 2, 'item': [{'item': '便利超商', 'item_name': '萊爾富便利商店 中山晶華店', 'case_kind': 'B', 'radius': 15}, {'item': '地方診所', 'item_name': '董漢欽婦產科', 'case_kind': 'B', 'radius': 27}]}, \n",
    "    {'case_type': '010', 'case_kind': 'B', 'case_name': '以上小項皆無', 'score': 0, 'item': []}, \n",
    "    {'case_type': '011', 'case_kind': 'C', 'case_name': '火葬場', 'score': 0, 'item': []}, \n",
    "    {'case_type': '012', 'case_kind': 'C', 'case_name': '焚化爐', 'score': 0, 'item': []}, \n",
    "    {'case_type': '013', 'case_kind': 'C', 'case_name': '殯儀館(100公尺內)', 'score': 0, 'item': []}, \n",
    "    {'case_type': '014', 'case_kind': 'C', 'case_name': '特種行業(八大行業、酒店、遊藝場、PUB等場所)50公尺內', 'score': 0, 'item': []}, \n",
    "    {'case_type': '015', 'case_kind': 'C', 'case_name': '高壓電塔、變電所、發電廠、氣體製造廠(50公尺)', 'score': 0, 'item': []}, \n",
    "    {'case_type': '016', 'case_kind': 'C', 'case_name': '加油站、液化石油氣分裝場(50公尺內)', 'score': 0, 'item': []}, \n",
    "    {'case_type': '017', 'case_kind': 'C', 'case_name': '瓦斯行、瓦斯分裝場、瓦斯槽(50公尺內)', 'score': 0, 'item': []}, \n",
    "    {'case_type': '018', 'case_kind': 'C', 'case_name': '宮廟、神壇(50公尺內)', 'score': 0, 'item': []}, \n",
    "    {'case_type': '019', 'case_kind': 'C', 'case_name': '工廠(50公尺內)', 'score': 0, 'item': []}, \n",
    "    {'case_type': '020', 'case_kind': 'C', 'case_name': '垃圾場、資源回收場', 'score': 0, 'item': []}, \n",
    "    {'case_type': '021', 'case_kind': 'C', 'case_name': '鐵道(50公尺內)', 'score': 0, 'item': []}, \n",
    "    {'case_type': '022', 'case_kind': 'C', 'case_name': '以上小項皆無', 'score': 0, 'item': []}\n",
    "    ]\n",
    "}"
   ]
  }
 ],
 "metadata": {
  "language_info": {
   "name": "python"
  }
 },
 "nbformat": 4,
 "nbformat_minor": 2
}
